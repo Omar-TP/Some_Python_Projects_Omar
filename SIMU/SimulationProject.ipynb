{
 "cells": [
  {
   "cell_type": "markdown",
   "id": "1366d6c2-6dfc-4480-8f0f-955fed604460",
   "metadata": {},
   "source": [
    "# Molecular dynamic simulation\n",
    "\n",
    "We are going to implement a form of molecular dynamics simulation that is widely used in the study of colloidal systems, and is also a simple model of dense fluids. We will start with 4 disks, that are placed in a box and set-off with constant speed. The motion of the particles is controlled by the logic in the file [simul.py](simul.py). Which contains a simple `Class` to initialize the system and then to move forwards the particles. `__init__` sets the 4 particles in a standard position with the code `self.position=`. We then choose random velocities, and create sets of indexes `self._i`, `self._j` in order to be able to manage in interactions between pairs of particles. The graphical display of the result is perform by a second, independent `Class`: Is is created in the file [animatesimul.py](animatesimul.py). For the first day you should only need to modify the code in `simul.py`."
   ]
  },
  {
   "cell_type": "markdown",
   "id": "a42aed92-9c13-47ed-bd4c-54c96cac995c",
   "metadata": {},
   "source": [
    "### Run the code\n",
    "in a terminal type:  \n",
    "`python run.py`  \n",
    "Observe the result, and read the function `md_step()` in [simul.py](simul.py)\n",
    "\n",
    "  \n",
    "  `md_step()` is called 100 times, as imposed by the line \n",
    "  `animate.go(nframes=100)` in [run.py](run.py)\n"
   ]
  },
  {
   "cell_type": "markdown",
   "id": "ca22b9e2-d03d-42f1-b891-b160b5ba8a4d",
   "metadata": {},
   "source": [
    "### Write the function `_wall_time()`\n",
    "\n",
    "This should find the next collision between a particle and a wall, and return the time, particle involved and the direction of the wall : x or y.\n",
    "\n",
    "Manage the collision with the wall in `md_step()`, and perform the number of required steps so that the total time treated by the function is `_sample.time`.  \n",
    "`md_step()` should also keep track of the total momentum transferred to the walls during `_sample_time`, and return the value of the Pressure for the time slice. See [Pressure.ipynb](Pressure.ipynb) for more detail. Most of the logic can be treated using the function `np.where()`, see [Vectors.ipynb](Vectors.ipynb)"
   ]
  },
  {
   "cell_type": "markdown",
   "id": "d1d905f3-4678-4003-a102-bdabb8c65a4a",
   "metadata": {},
   "source": [
    "### Write the function `_pair_time()`\n",
    "Use the mathematics in [Collisions.ipynb](Collisions.ipynb) to calculate the collision time between pairs of particles, and then update the velocities in `md_step()`"
   ]
  },
  {
   "cell_type": "markdown",
   "id": "7ead9539-9a21-4952-a724-549dfd94043b",
   "metadata": {},
   "source": [
    "### Modify for arbitrary number of particles\n",
    "\n",
    "Rather than running with just 4 particles, write a general code for $N$ particles which are placed in a box of pre-defined size. You will need to modify also the graphics code for this step."
   ]
  },
  {
   "cell_type": "markdown",
   "id": "a40b0048-4bbd-4d3e-b48f-a9e2be080584",
   "metadata": {},
   "source": [
    "### Write a non-graphics driver\n",
    "\n",
    "Rather than running the simulation from the graphics code write a New class, that takes a simulation, runs it, while stocking the times series of the pressure [Pressure.ipynb](Pressure.ipynb) in a list. At the end of the simulation write the times series of the pressure to disk, see [HowToSaveObjects.ipynb](HowToSaveObjects.ipynb). Use `matplotlib` to examine the times series, you can also study the auto-correlations/average/fluctuations of the time series."
   ]
  },
  {
   "cell_type": "code",
   "execution_count": null,
   "id": "4bd021e9-0ba6-42b1-83f4-d2ed2ec96654",
   "metadata": {},
   "outputs": [],
   "source": []
  }
 ],
 "metadata": {
  "kernelspec": {
   "display_name": "venv",
   "language": "python",
   "name": "python3"
  },
  "language_info": {
   "codemirror_mode": {
    "name": "ipython",
    "version": 3
   },
   "file_extension": ".py",
   "mimetype": "text/x-python",
   "name": "python",
   "nbconvert_exporter": "python",
   "pygments_lexer": "ipython3",
   "version": "3.11.6 (tags/v3.11.6:8b6ee5b, Oct  2 2023, 14:57:12) [MSC v.1935 64 bit (AMD64)]"
  },
  "vscode": {
   "interpreter": {
    "hash": "56aa635d8dab73412de4e6ba6a086b928a50c06738dea61fb5049e70d2dd9937"
   }
  }
 },
 "nbformat": 4,
 "nbformat_minor": 5
}
