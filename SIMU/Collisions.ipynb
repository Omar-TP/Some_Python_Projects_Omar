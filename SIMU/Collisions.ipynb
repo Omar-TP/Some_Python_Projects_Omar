{
 "cells": [
  {
   "cell_type": "markdown",
   "id": "07e43f2d-3fa7-4979-b66d-69d012dbba83",
   "metadata": {},
   "source": [
    "# Pair collisions"
   ]
  },
  {
   "cell_type": "markdown",
   "id": "fb089c33-91d6-4ec6-8291-7866a2942d8c",
   "metadata": {},
   "source": [
    "We can find the collision rule between two particles by considering the conservation of momentum, and conservation of energy. We take all particles masses, $m=1$."
   ]
  },
  {
   "cell_type": "markdown",
   "id": "c2b6732f-583a-4886-ba60-ab84a8fb23f2",
   "metadata": {},
   "source": [
    "Momentum conservation gives $ \\textbf{v}_1+ \\textbf{v}_2 = \\textbf{v'}_1+ \\textbf{v'}_2 $, for  the collision between two particles $1$ and $2$ of equal mass. Energy conservation implies that the kinetic energy $K= \\frac{\\textbf{v}_1^2}{2} + \\frac{\\textbf{v}_2^2}{2}$, is also the same before and after collision."
   ]
  },
  {
   "cell_type": "markdown",
   "id": "3cde6f2f-b33d-466a-8d68-578f0ade2040",
   "metadata": {},
   "source": [
    "This implies $$\\textbf{v}_1' =\\textbf{v}_1 -\\hat{ \\textbf{r}} (\\hat {\\textbf{ r}}  \\cdot ( \\textbf{v}_1 -\\textbf{ v}_2) )$$,  $$\\textbf{v}_2' =\\textbf{v}_2 +\\hat{ \\textbf{r}} (\\hat {\\textbf{ r}}  \\cdot ( \\textbf{v}_1 -\\textbf{ v}_2) )$$\n",
    "where $\\hat{\\textbf{r}}$ is a unit vector in the direction of the vector joining the centres of the particles."
   ]
  },
  {
   "cell_type": "markdown",
   "id": "003ec9bd-05d5-45af-8a05-27a5deeae86d",
   "metadata": {},
   "source": [
    "When coding the collisions it is a good crosscheck on your code to verify these two conservation laws. Python has two function for this. `isclose()` to check if two floating numbers are close. `assert` stops the program if the comparison fails. We are working with floating point numbers. You should never test for exact equality. Round-off errors are always present in any calculation.\n"
   ]
  },
  {
   "cell_type": "code",
   "execution_count": 2,
   "id": "0109f3ff-7d1a-4995-a9b0-318f4151074a",
   "metadata": {},
   "outputs": [
    {
     "name": "stdout",
     "output_type": "stream",
     "text": [
      "a b\t 1.000000000001 1\n",
      "a b\t 1.00000001 1\n",
      "this next line will give an error\n",
      "\n"
     ]
    },
    {
     "ename": "AssertionError",
     "evalue": "",
     "output_type": "error",
     "traceback": [
      "\u001b[0;31m---------------------------------------------------------------------------\u001b[0m",
      "\u001b[0;31mAssertionError\u001b[0m                            Traceback (most recent call last)",
      "Input \u001b[0;32mIn [2]\u001b[0m, in \u001b[0;36m<cell line: 12>\u001b[0;34m()\u001b[0m\n\u001b[1;32m     10\u001b[0m \u001b[38;5;28mprint\u001b[39m(\u001b[38;5;124m\"\u001b[39m\u001b[38;5;124ma b\u001b[39m\u001b[38;5;130;01m\\t\u001b[39;00m\u001b[38;5;124m\"\u001b[39m,a,b)\n\u001b[1;32m     11\u001b[0m \u001b[38;5;28mprint\u001b[39m(\u001b[38;5;124m\"\u001b[39m\u001b[38;5;124mthis next line will give an error\u001b[39m\u001b[38;5;130;01m\\n\u001b[39;00m\u001b[38;5;124m\"\u001b[39m)\n\u001b[0;32m---> 12\u001b[0m \u001b[38;5;28;01massert\u001b[39;00m math\u001b[38;5;241m.\u001b[39misclose(a,b)\n",
      "\u001b[0;31mAssertionError\u001b[0m: "
     ]
    }
   ],
   "source": [
    "import math\n",
    "a=1+ 1.e-12\n",
    "b=1\n",
    "print(\"a b\\t\",a,b)\n",
    "\n",
    "# this compares a,b to within 1.e-9. they are very nearly the same\n",
    "# nothing is printed\n",
    "assert math.isclose(a,b)\n",
    "# this makes a and b different by a larger amount, the assert will fail and print and error\n",
    "a=1+1.e-8\n",
    "print(\"a b\\t\",a,b)\n",
    "print(\"this next line will give an error\\n\")\n",
    "assert math.isclose(a,b)\n",
    "\n"
   ]
  }
 ],
 "metadata": {
  "kernelspec": {
   "display_name": "venv",
   "language": "python",
   "name": "python3"
  },
  "language_info": {
   "codemirror_mode": {
    "name": "ipython",
    "version": 3
   },
   "file_extension": ".py",
   "mimetype": "text/x-python",
   "name": "python",
   "nbconvert_exporter": "python",
   "pygments_lexer": "ipython3",
   "version": "3.11.6 (tags/v3.11.6:8b6ee5b, Oct  2 2023, 14:57:12) [MSC v.1935 64 bit (AMD64)]"
  },
  "vscode": {
   "interpreter": {
    "hash": "56aa635d8dab73412de4e6ba6a086b928a50c06738dea61fb5049e70d2dd9937"
   }
  }
 },
 "nbformat": 4,
 "nbformat_minor": 5
}
