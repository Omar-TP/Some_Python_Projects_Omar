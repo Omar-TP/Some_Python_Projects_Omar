{
 "cells": [
  {
   "cell_type": "markdown",
   "id": "711f9743-07a2-433d-b39a-ea50b19cd5ba",
   "metadata": {
    "tags": []
   },
   "source": [
    "# Molecular dynamics in Python\n",
    "In this TP we will be using the Python language to study one of the major theoretical tools of statistical mechanics and materials science: **Molecular dynamics simulation**.\n",
    "\n",
    "Molecular dynamics follows the dynamics of \"particles\" representing atoms, with an empirical interaction between pairs of particles.\n",
    "\n",
    "We will be doing this with a highly simplified model of \"hard disks\" in two dimensions, where it is easy to calculate the trajectories of particles and also easy to visualize the results.\n",
    "\n",
    "The dynamics of the hard disks will be simulated using the **Event-driven strategy** in order to make the most of the computer numerical precision."
   ]
  },
  {
   "cell_type": "markdown",
   "id": "97404931-b329-4cc5-965c-d09416adda15",
   "metadata": {},
   "source": [
    "## Class based programming\n",
    "Before starting to look and the simulation, we need to learn a little bit about Classes in python. We will ask that solutions to the problems maintain a clean separation between classes/objects. It makes code easier to read, and easier to reuse or modify.\n",
    "\n",
    "The philosophy is that  similar properties are grouped together in a way that is logical for the physical situation that is being studied, see [ClassExample/point2d.ipynb](ClassExample/point2d.ipynb) and a explanation from [Zorana Zeravcic](ClassExample/classes_short_intro.pdf)"
   ]
  },
  {
   "cell_type": "markdown",
   "id": "48c5e620-53ff-460b-87f2-28c491b6bcb0",
   "metadata": {},
   "source": [
    "## Simulation with event-driven methods\n",
    "We will work starting with the two files [simul.py](simul.py) and [animatesimul.py](animatesimul.py).\n",
    "\n",
    "[simul.py](simul.py) definites a class that creates a system containing 4 particles in two dimensions   `__init__()` sets the 4 particles in a standard position with the code `self.position=`. \n",
    "We then choose random velocities, and create sets of indexes `self._i`, `self._j` in order to be able to manage in interactions between pairs of particles. \n",
    "Particles are moved forwards in the function `md_step()`. Read [simul.py](simul.py) and understand everything. We will be working with this file for several sessions.\n",
    "\n",
    "[animatesimul.py](animatesimul.py) defines a second class that creates a window and displays the system of particles on the screen. The two classes are written to cooperate, and are used together in [run.py](run.py). Note how the user of the [animatesimul.py](animatesimul.py) does not have to know anything about the window management. Everything is \"hidden\" in the class. The file [run.py](run.py) uses the two classes to run and animate a simulation. You should read [animatesimul.py](animatesimul.py) quickly to see what's there, but you will not have to understand it in detail for the first weeks. `animatesimul.py` will work with any class which defines TWO properties `position` and `md_step()`. You can rewrite the physics entirely in `simul.py` without modifying the display code."
   ]
  },
  {
   "cell_type": "markdown",
   "id": "855818ee-42d9-4ff7-b3fc-0f75036ba00e",
   "metadata": {
    "tags": []
   },
   "source": [
    "### Run the code\n",
    "Try to run the program `run.py` from a terminal with the command `python run.py` and understand how the pieces work together. For the first day you should only need to modify the code in [simul.py](simul.py). `md_step()` is called 100 times, as imposed by the line \n",
    "  `animate.go(nframes=100)` in [run.py](run.py)"
   ]
  },
  {
   "cell_type": "markdown",
   "id": "4d4f98dc-bba5-43d7-9153-4af7786bc6e7",
   "metadata": {},
   "source": [
    "The two classes can also be used from a Notebook as in [ Animation_simulation.ipynb]( Animation_simulation.ipynb), however while developing code this is less useful since error messages can be difficult to understand from within the Jupyter Notebook. We recommend running from `run.py`. Classes should only be defined in `.py` files, then `import`ed into the main program."
   ]
  },
  {
   "cell_type": "markdown",
   "id": "0739546f-6511-4b26-a65f-9aea09cad479",
   "metadata": {},
   "source": [
    "### Write the function `_wall_time()`\n",
    "\n",
    "The code as written just moves the particles at a constant speed. The first task is to modify the file `simul.py` so that particles bounce off the walls of the enclosing box.\n",
    "\n",
    "The function `_wall_time()` should find the next collision between a particle and a wall, and return the collision time, particle involved and the direction of the wall : x or y.\n",
    "\n",
    "Manage the collision with the wall in `md_step()`, and perform the number of required steps so that the total time treated by the function is `_sample.time`.  \n",
    "`md_step()` should also keep track of the total momentum transferred to the walls during `_sample_time`, and return the value of the Pressure for the time slice. See [Pressure.ipynb](Pressure.ipynb) for more details. Most of the logic can be treated using the functions `np.where()` and `np.unravel_index()`, see [Vectors.ipynb](Vectors.ipynb)\n",
    "\n",
    "\n",
    "\n",
    "This style of programming is not obvious, it may take some hours to get this part of the code correct."
   ]
  },
  {
   "cell_type": "markdown",
   "id": "96280b0a-8762-4082-a965-8f5604ebef45",
   "metadata": {},
   "source": [
    "### Write the function `_pair_time()`\n",
    "When the particles bounce correctly of the sides of the box you should then implement the \"hard disk\" collisions between pairs of particles. \n",
    "Use the mathematics in [Collisions.ipynb](Collisions.ipynb) to calculate the collision time between pairs of particles, and then update the velocities in `md_step()`. `numpy.where()` and `numpy.argmin()` can be useful.\n"
   ]
  },
  {
   "cell_type": "markdown",
   "id": "4645f38f-e128-4c0c-9d1e-fcf9b333d792",
   "metadata": {},
   "source": [
    "### Write an independent driver routine to replace the graphics display\n",
    "Displaying the motion of the particles on the screen slows down the code. In \"data acquisition\" mode is is normal to have a way of running the code that does not display anything, but rather cumulates data that is written to disk for later analysis. \n",
    "\n",
    "Write a **new** class that you design yourself, that is initialized from a `Simul` object and that stocks the result of the call to `md_step()` in a (growing) list. At the end of a simulation write the list to a file using `pickle`. Now write a notebook that reads in the time series and plots the result. Study the curve using the statistical tools available in python. Average, variance, auto-correlation, spectrum... \n",
    "\n",
    "\n",
    "To measure the time series of the pressure on the walls look at [Pressure.ipynb](Pressure.ipynb).  `pickle` and other methods to save data are described in  [HowToSaveObjects.ipynb](HowToSaveObjects.ipynb).\n"
   ]
  },
  {
   "cell_type": "markdown",
   "id": "41b2935e-8b63-46f1-929c-fd8ae4de6cac",
   "metadata": {},
   "source": [
    "### Modify for arbitrary number of particles\n",
    "\n",
    "Rather than running with just 4 particles, write a general code for $N$ particles which are placed in a box of pre-defined size (until now a unit box was used). \n",
    "\n",
    "You have used a vector notation for all of your code, so little should need modifying, you will have to jump into the graphics code however.\n",
    "\n",
    "\n",
    "We will evaluate your implementation of the the basic molecular dynamics simulation as described above. You should write a Jupyter Notebook which describes your implementation and any tricks and difficulties that you met along the way.  Your code should run from the command line:  `python run.py` should produce a correct visual output, as should your (non-visual) code producing the pressure time series."
   ]
  }
 ],
 "metadata": {
  "kernelspec": {
   "display_name": "venv",
   "language": "python",
   "name": "python3"
  },
  "language_info": {
   "codemirror_mode": {
    "name": "ipython",
    "version": 3
   },
   "file_extension": ".py",
   "mimetype": "text/x-python",
   "name": "python",
   "nbconvert_exporter": "python",
   "pygments_lexer": "ipython3",
   "version": "3.11.6 (tags/v3.11.6:8b6ee5b, Oct  2 2023, 14:57:12) [MSC v.1935 64 bit (AMD64)]"
  },
  "vscode": {
   "interpreter": {
    "hash": "56aa635d8dab73412de4e6ba6a086b928a50c06738dea61fb5049e70d2dd9937"
   }
  }
 },
 "nbformat": 4,
 "nbformat_minor": 5
}
