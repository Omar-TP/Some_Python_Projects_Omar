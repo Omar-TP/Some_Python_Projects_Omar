{
 "cells": [
  {
   "cell_type": "markdown",
   "metadata": {},
   "source": [
    "# Découverte du epsilon numérique\n",
    "\n",
    "Il existe principalement deux types de données flottantes\n",
    "- le réel simple précision sur 32 bits (4 octets)\n",
    "- le réel double précision sur 64 bits (8 octets)\n",
    "\n",
    "Ces valeurs sont codées en base 2 selon la norme IEEE qui définit de manière complète le rôle de chacun des 32/64 bits dans la représentation mémoire de la valeur réelle.\n",
    "\n",
    "Pour un nombre réel sur 64 bits, on a\n",
    "- un bit de signe\n",
    "- 11 bits d'exposant (sur une base de puissance de 2)\n",
    "- 52 bits de mantisse\n",
    "\n",
    "La mantisse est un nombre compris entre 0 et 1 et dont la valeur finale est évaluée en fonction des bits $b_1$, $b_2$ ... $b_{52}$ selon la formule\n",
    "$$M=\\sum_{i=1}^{52}\\frac{1}{2^i}$$\n",
    "Moyennant quoi la valeur finale du nombre est de la forme\n",
    "$$x=\\pm 2^{exposant}\\times 1.M$$\n",
    "\n",
    "Avec une telle représentation, le terme $2^{exposant}$ nous donne l'ordre de grandeur de la valeur, et $M$ ses décimales mais en valeur relative. Ainsi, la machine n'est pas en mesure de faire la distinction entre \n",
    "$$x_1=\\pm 2^{exposant}\\times 1.M$$\n",
    "et\n",
    "$$x_2=\\pm 2^{exposant}\\times 1.\\left(M+2^{-53}\\right)$$\n",
    "pour lesquelles la différence en valeur absolue est $2^{exposant}\\times 2^{-53}$.\n",
    "\n",
    "On parle alors d'erreur de précision numérique dans la représentation de la variable $x$. Cette erreur est en valeur relative et dépend donc de l'ordre de grandeur de $x$.\n",
    "- Dans le cas d'une valeur unitaire, l'erreur de précision absolue est $2^{-53}$,\n",
    "- Dans le cas d'une valeur de l'ordre de $10^3$, l'erreur de précision absolue est de l'ordre de $2^{10}\\times2^{-53}\\simeq2^{-43}$\n",
    "- Dans le cas d'une valeur de l'ordre de $10^{20}$, l'erreur de précision absolue est de l'ordre de $2^{66}\\times2^{-53}\\simeq2^{13}=8192$"
   ]
  },
  {
   "cell_type": "markdown",
   "metadata": {},
   "source": [
    "## Premier exemple - évaluation du epsilon numérique"
   ]
  },
  {
   "cell_type": "markdown",
   "metadata": {},
   "source": [
    "Le premier code que vous devez écrire ici est relativement simple :\n",
    "- prenez une valeur de $x$ égale à 1\n",
    "- calculer la plus petite valeur de $n$ entier telle que $x = x + 2^{-n}$ \n",
    "- refaire tourner le même code avec $x=10^3$, $x=10^6$, $x=10^9$, ..."
   ]
  },
  {
   "cell_type": "code",
   "execution_count": 11,
   "metadata": {},
   "outputs": [
    {
     "name": "stdout",
     "output_type": "stream",
     "text": [
      "Mpmath settings:\n",
      "  mp.prec = 100               [default: 53]\n",
      "  mp.dps = 29                 [default: 15]\n",
      "  mp.trap_complex = False     [default: False]\n",
      "53\n"
     ]
    }
   ],
   "source": [
    "from mpmath import *\n",
    "\n",
    "print(mp)\n",
    "mp.prec=53\n",
    "x = mpf(1.)\n",
    "n = 0\n",
    "while x != x+2**(-n):\n",
    "    n += 1\n",
    "print(n)"
   ]
  },
  {
   "cell_type": "markdown",
   "metadata": {},
   "source": [
    "## Deuxième exemple - la non-associativité de l'addition"
   ]
  },
  {
   "cell_type": "markdown",
   "metadata": {},
   "source": [
    "Un autre exemple très simple et rapide à mettre en oeuvre consiste à montrer que l'addition n'est plus associative. Pour cela on va calculer $(a+b)+c$ et $a+(b+c)$ pour différentes valeurs de $a$, $b$ et $c$.\n",
    "\n",
    "On pourra ainsi considérer les valeurs suivantes\n",
    "- $a=10^n$\n",
    "- $b=-10^n$\n",
    "- $c=1$\n",
    "pour différentes valeurs de l'entier $n$. Trouver en particulier à partir de quelle valeur de $n$ les deux expressions $(a+b)+c$ et $a+(b+c)$ diffèrent."
   ]
  },
  {
   "cell_type": "code",
   "execution_count": 15,
   "metadata": {},
   "outputs": [
    {
     "name": "stdout",
     "output_type": "stream",
     "text": [
      "16\n"
     ]
    }
   ],
   "source": [
    "n = 0\n",
    "a = 1.\n",
    "b = 1.\n",
    "c = 1.\n",
    "A = (a+b)+c\n",
    "B = a+(b+c)\n",
    "while A == B:\n",
    "    n+=1\n",
    "    a = 10.**n # On oubli pas le point pour être en valeur décimale (sinon boucle infinie, le calcul est toujours fait en arithmétique entière donc est toujours vrai)\n",
    "    b = -10.**n\n",
    "    A = (a+b)+c \n",
    "    B = a+(b+c)\n",
    "print(n)"
   ]
  },
  {
   "cell_type": "markdown",
   "metadata": {},
   "source": [
    "## Troisième exemple - inversion d'un système simple"
   ]
  },
  {
   "cell_type": "markdown",
   "metadata": {},
   "source": [
    "Le troisième exemple, très facile et rapide à coder et assez illustrateur de la problématique numérique, consiste à inverser un système linéaire 2x2 de la forme\n",
    "$$\n",
    "    (I)~\\left\\{\\begin{array}\n",
    "    xx_1+x_2 & = & 1 \\\\\n",
    "    10^{-n}x_1+x_2 & = & 0.5 \\\\\n",
    "    \\end{array}\\right.\n",
    "~~~~~~~~~~\n",
    "    (II)~\\left\\{\\begin{array}\n",
    "    110^{-n}x_1+x_2 & = & 0.5 \\\\\n",
    "    x_1+x_2 & = & 1 \\\\\n",
    "    \\end{array}\\right.\n",
    "$$\n",
    "A ces deux systèmes on applique la méthode dite du pivot de Gauss avec les étapes suivantes\n",
    "- on garde inchangée la première équation, on retire à la deuxième équation un multiple de la première équation calculé de telle sorte que l'on élimine la dépendance en $x_1$\n",
    "- le système étant alors triangulaire, on calcule $x_2$ de la deuxième équation\n",
    "- on en déduit $x_1$\n",
    "\n",
    "Ecrire un code qui met en oeuvre cet algorithme avec chacun des deux systèmes pour différentes valeurs de $n$. Que peut-on en déduire par rapport à la méthode de résolution d'un tel système ?"
   ]
  },
  {
   "cell_type": "code",
   "execution_count": 76,
   "metadata": {},
   "outputs": [
    {
     "name": "stdout",
     "output_type": "stream",
     "text": [
      "Système 1\n",
      "n = 1 x1 = 0.5 x2 = 0.5\n",
      "n = 5 x1 = 0.5 x2 = 0.5\n",
      "n = 10 x1 = 0.5 x2 = 0.5\n",
      "n = 100 x1 = 0.5 x2 = 0.5\n",
      "Système 2\n",
      "n = 1 x1 = 0.5555555555555558 x2 = 0.4444444444444444\n",
      "n = 5 x1 = 0.5000050000480982 x2 = 0.4999949999499995\n",
      "n = 10 x1 = 0.5000000413701855 x2 = 0.49999999995\n",
      "n = 100 x1 = 0.0 x2 = 0.5\n"
     ]
    }
   ],
   "source": [
    "import numpy as np\n",
    "N = [1,5,10,100]\n",
    "# Système 1\n",
    "print('Système 1')\n",
    "for n in N:\n",
    "    A = np.array([[1,1],[10.**(-n),1]])\n",
    "    B = np.array([(1,0.5)])\n",
    "    Diff_A = np.array([A[0,:],A[1,:]-10.**(-n)*A[0,:]])\n",
    "    Diff_B = np.array([B[0,0],B[0,1]-B[0,0]*10.**(-n)])\n",
    "    x1 = Diff_B[1]/Diff_A[1,1]\n",
    "    x1 = Diff_B[0]-x2\n",
    "    print('n =',n,'x1 =',x1,'x2 =',x2)\n",
    "\n",
    "# Système 2\n",
    "print('Système 2')\n",
    "for n in N:\n",
    "    A = np.array([[10.**(-n),1],[1,1]])\n",
    "    B = np.array([(0.5,1)])\n",
    "    Diff_A = np.array([A[0,:],A[1,:]-10.**(n)*A[0,:]])\n",
    "    Diff_B = np.array([B[0,0],B[0,1]-B[0,0]*10.**(n)])\n",
    "    x2 = Diff_B[1]/Diff_A[1,1]\n",
    "    x1 = (Diff_B[0]-x2)*10.**(n)\n",
    "    print('n =',n,'x1 =',x1,'x2 =',x2)   \n"
   ]
  },
  {
   "cell_type": "markdown",
   "metadata": {},
   "source": [
    "## Calcul d'une série alternée"
   ]
  },
  {
   "cell_type": "markdown",
   "metadata": {},
   "source": [
    "On s'intéresse ici au calcul de la série\n",
    "$$S_N(x)=\\sum_{n=0}^N(-1)^n\\frac{x^{2n}}{2n!}$$\n",
    "Dans un premier temps on ne se préoccupe pas de la convergence de la série, mais uniquement du calcul de la somme.\n",
    "\n",
    "Ecrire un code Python permettant de calcul $S_N(x)$ pour une valeur de $x$ donnée (on pourra par exemple considérer $x=1.5$) :\n",
    "- créer une fonction permettant de calculer $n!$\n",
    "- créer une fonction permettant de calculer $u_n(x)=x^{2n}/2n!$\n",
    "- calculer la somme $S_N(x)$\n",
    "- évaluer et représenter graphiquement le temps de calcul en fonction de $N$\n",
    "- quelle est la complexité numérique de ce calcul par rapport à $N$ ?"
   ]
  },
  {
   "cell_type": "markdown",
   "metadata": {},
   "source": [
    "Réécrire le code précédent avec une complexité linéaire en $N$.\n",
    "Pour atteindre la complexité linéaire il faut remarquer la relation de récurrence\n",
    "$$u_{n+1}(x)=\\frac{x^2}{(2n+2)(2n+1)}u_n(x)$$"
   ]
  },
  {
   "cell_type": "markdown",
   "metadata": {},
   "source": [
    "Calculer\n",
    "$$\\sum_{n=0}^{+\\infty}(-1)^n\\frac{x^{2n}}{2n!}$$\n",
    "en limitant le nombre de termes dans la somme par un critère de convergence adéquat. \n",
    "Comparer le résultat obtenu avec $\\cos(x)$.\n",
    "\n",
    "On fera ce calcul pour $x=1$, $x=5$, $x=10$, $x=25$, $x=50$. Commentaires ?"
   ]
  },
  {
   "cell_type": "markdown",
   "metadata": {},
   "source": [
    "Afin de mieux comprendre la nature des résultats obtenus :\n",
    "- comment varie $x^{2n}$ avec $n$ ?\n",
    "- comment varie $1/2n!$ avec $n$ ?\n",
    "- comment varie $u_n(x)$ avec $n$ ? on pourra ici utiliser une représentation graphique de $u_n(x)$ en fonction de $n$, par exemple pour $x=50$.\n",
    "\n",
    "Conclusions ?"
   ]
  },
  {
   "cell_type": "code",
   "execution_count": 192,
   "metadata": {},
   "outputs": [
    {
     "name": "stdout",
     "output_type": "stream",
     "text": [
      "Avec le DL [2.462872201561461e-05, 0.0006153543210180421, 0.0024568817257137237, 0.015159967982147624, 0.05800194886548187] \n",
      "Avec le cos [mpf('0.54030230586813977'), mpf('0.28366218546322625'), mpf('-0.83907152907645244'), mpf('0.99120281186347359'), mpf('0.96496602849211333')]\n"
     ]
    },
    {
     "data": {
      "image/png": "[encoded data removed]",
      "text/plain": [
       "<Figure size 432x288 with 1 Axes>"
      ]
     },
     "metadata": {
      "needs_background": "light"
     },
     "output_type": "display_data"
    },
    {
     "data": {
      "image/png": "[encoded data removed]",
      "text/plain": [
       "<Figure size 432x288 with 1 Axes>"
      ]
     },
     "metadata": {
      "needs_background": "light"
     },
     "output_type": "display_data"
    },
    {
     "data": {
      "image/png": "[encoded data removed]",
      "text/plain": [
       "<Figure size 432x288 with 1 Axes>"
      ]
     },
     "metadata": {
      "needs_background": "light"
     },
     "output_type": "display_data"
    }
   ],
   "source": [
    "import time\n",
    "import matplotlib.pyplot as plt\n",
    "import numpy as np\n",
    "\n",
    "case = 1\n",
    "\n",
    "if case == 0:\n",
    "\n",
    "    # Calcul de n factoriel\n",
    "    def facto(n):\n",
    "        if n == 0:\n",
    "           fact = 1\n",
    "        else:\n",
    "           fact = facto(n-1)*n\n",
    "        return fact\n",
    "\n",
    "    # Calcul de un\n",
    "    def un(x,n):\n",
    "        return(x**(2*n)/facto(2*n))\n",
    "\n",
    "    # Calcul de la somme\n",
    "    def Somme(x,N):\n",
    "        S = 0\n",
    "        for k in range(N):\n",
    "            S += (-1)**k*un(x,k)\n",
    "        return(S)\n",
    "\n",
    "    # Évaluation du temps de calcul\n",
    "    N_list = [k for k in range(87)] # Fonctionne jusqu'à 87 (on ne peut pas aller plus loin que 170 avec n! donc 85 avec (2n)!\n",
    "    S = []\n",
    "    temps = []\n",
    "    x = 1.4\n",
    "    for N in N_list:\n",
    "        t1 = time.time()\n",
    "        S.append(Somme(x,N))\n",
    "        t2 = time.time()\n",
    "        temps.append(t2-t1)\n",
    "\n",
    "    plt.plot(N_list,temps)\n",
    "\n",
    "    # Complexité exponentielle\n",
    "\n",
    "    def Somme_rec(x,N):\n",
    "        S = 0\n",
    "        u = 1\n",
    "        for k in range(N):\n",
    "            u = u*x**2/((2*n)*(2*n-1))\n",
    "            S += (-1)**k*u\n",
    "        return(S)\n",
    "\n",
    "    N_list = [k for k in range(87)] # Fonctionne jusqu'à 87 (on ne peut pas aller plus loin que 170 avec n! donc 85 avec (2n)!) --> Overflow sur les nombres réels atteint vers 10^(308) soit 170!\n",
    "    S = []\n",
    "    temps = []\n",
    "    x = 1.4\n",
    "    for N in N_list:\n",
    "        t1 = time.time()\n",
    "        S.append(Somme_rec(x,N))\n",
    "        t2 = time.time()\n",
    "        temps.append(t2-t1)\n",
    "\n",
    "    plt.plot(N_list,temps)\n",
    "    plt.grid()\n",
    "    plt.xlabel('Temps')\n",
    "    plt.ylabel('N')\n",
    "    plt.legend(['Sans récurennce','Avec récurrence'])\n",
    "    \n",
    "# Précision = 10^(-15)/1 --> peut sembler négligeable mais peut provoquer de gros problèmes --> à cause de l'incrémentation possible des erreurs\n",
    "# Les erreurs vont se cumuler\n",
    "\n",
    "# Comparaison cos/DL\n",
    "\n",
    "if case==1:\n",
    "    \n",
    "    N = 85\n",
    "    X_cos = [1,5,10,25,50]\n",
    "    Y_dl = [Somme_rec(x,N) for x in X_cos]\n",
    "    Y_cos = [cos(x) for x in X_cos]\n",
    "    print('Avec le DL',Y_dl,'\\nAvec le cos',Y_cos)\n",
    "\n",
    "# Tracer de 1/(2n)! et x^2n\n",
    "\n",
    "Nlist = [k for k in range(10)]\n",
    "fact_list = [1/(2*facto(n)) for n in Nlist]\n",
    "x2nm1_list = [0.9**(2*n) for n in Nlist]\n",
    "x2np1_list = [1.1**(2*n) for n in Nlist]          \n",
    "plt.figure()\n",
    "plt.plot(Nlist,fact_list)\n",
    "plt.xlabel('x')\n",
    "plt.ylabel('1/(2n)!')\n",
    "plt.grid()\n",
    "plt.figure()\n",
    "plt.plot(Nlist,x2nm1_list)\n",
    "plt.plot(Nlist,x2np1_list)\n",
    "plt.xlabel('x')\n",
    "plt.ylabel('x^2n')\n",
    "plt.legend(['x<1','x>1'])\n",
    "plt.grid()\n",
    "\n",
    "\n",
    "# Tracer de un en fonction de x\n",
    "Nlist = [k for k in range(50)]\n",
    "un_list = [un(50,n) for n in Nlist]\n",
    "plt.figure()\n",
    "plt.plot(Nlist,un_list)\n",
    "plt.xlabel('x')\n",
    "plt.ylabel('un')\n",
    "plt.grid()\n",
    "   \n",
    "# Problème pour le cosinus de 50 : valeur environ 35000 --> Bizarre pour un cosinus.\n",
    "# La factorielle gagne dans la somme quand n --> infini, et pour des petites valeurs de n, la puissance gagne.\n",
    "# Régime croissant si le terme dans la relation de récurrence > 1\n",
    "# Pour basculer du régime croissant au régime décroissant : x^2/4n^2 = 1 --> n = x/2\n",
    "# Inflexion régime croissant/décroissant au voisinage de 25 pour x = 50\n",
    "# Si on regarde l'amplitude de la cloche --> 10^20 --> Erreur de l'ordre de 10^5 --> quand on grimpe sur la cloche, l'erreur relative augmente beaucoup\n",
    "\n",
    "\n",
    "           \n",
    "\n",
    "\n",
    "           \n",
    "\n",
    "\n",
    "\n",
    "           "
   ]
  }
 ],
 "metadata": {
  "kernelspec": {
   "display_name": "Python 3 (ipykernel)",
   "language": "python",
   "name": "python3"
  },
  "language_info": {
   "codemirror_mode": {
    "name": "ipython",
    "version": 3
   },
   "file_extension": ".py",
   "mimetype": "text/x-python",
   "name": "python",
   "nbconvert_exporter": "python",
   "pygments_lexer": "ipython3",
   "version": "3.9.13"
  }
 },
 "nbformat": 4,
 "nbformat_minor": 4
}
