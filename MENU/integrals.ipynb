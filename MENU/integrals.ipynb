{
 "cells": [
  {
   "cell_type": "markdown",
   "metadata": {},
   "source": [
    "# Calcul d'une intégrale\n",
    "\n",
    "L'objectif de ce TP consiste à étudier les différentes manières de calculer l'intégrale d'une fonction $f(x)$, et d'étudier en particulier la convergence et la précision.\n",
    "\n",
    "Le principe de calcul le plus intuitif consiste à subdiviser l'intervalle d'intégration $[a,b]$ en $N$ sous-intervalles d'égale longueur, d'approximer la valeur de l'intégrale dans chacun des sous-intervalles et d'écrire l'intégrale totale comme la somme des sous-intégrales. La formulation la plus simple vient en fait de la somme de Rieman.\n",
    "\n",
    "Le nombre de sous-intervalles $N$ est important car il conditionne le temps de calcul et la précision dans le calcul :\n",
    "* le temps de calcul : de manière évidente, plus $N$ est grand et plus on a un grand nombre de sous-intégrales à calculer, ce qui augmente donc le temps de calcul\n",
    "* la précision : si $N$ est trop faible, l'approximation des sous-intégrales risque d'être grossière et on obtiendra une précision finale médiocre ; on peut légitimement penser que la précision augmente avec $N$.\n",
    "\n",
    "On a donc un compromis à trouver entre le temps de calcul et la précision. Pour cela on va s'intéresser aux différentes méthodes classiques disponibles et analyser leur convergence.\n",
    "\n",
    "## Subdivision de l'intervalle d'intégration\n",
    "\n",
    "Ce point est commun à toutes les méthodes d'intégration ci-dessous. Si l'on subdivise l'intervalle d'intégration $[a,b]$ en $N$ sous-intervalles d'égale longueur, chacun des sous-intervalles est alors de longueur\n",
    "$$h=\\frac{b-a}{N}$$\n",
    "On suppose ici que l'on a $b>a$.\n",
    "\n",
    "Les $N$ sous-intervalles sont alors définis par $[x_i, x_{i+1}]$, $0\\leq i\\leq N$, avec $x_i=a+ih$ ($x_0=a$ et $x_N=b$). On a alors $N+1$ points $x_i$ équi-répartis entre $a$ et $b$.\n",
    "\n",
    "## La méthode des rectangles\n",
    "\n",
    "La méthode des rectangles est la méthode la plus immédiate puisqu'elle consiste à considérer que la fonction a une valeur constante dans chacun des intervalles $[x_i, x_{i+1}]$, de sorte que le calcul de l'intégrale correspondante est immédiat.\n",
    "\n",
    "Cette méthode suppose que la fonction varie effectivement très peu à l'échelle de la longueur $h$ de chacun des sous-intervalles.\n",
    "\n",
    "Cette méthode peut donner lieu à différentes implémentations selon la valeur que l'on considère pour la fonction. On a ainsi\n",
    "* la méthode des rectangles à gauche : dans l'intervalle $[x_i, x_{i+1}]$ la fonction est supposée constante égale à $f(x_i)$, ce qui nous donne la formule finale\n",
    "$$\\int_a^bf(x)dx\\simeq h\\sum_{i=0}^{N-1}f(x_i)$$\n",
    "* la méthode des rectangles à droite : dans l'intervalle $[x_i, x_{i+1}]$ la fonction est supposée constante égale à $f(x_{i+1})$, ce qui nous donne la formule finale\n",
    "$$\\int_a^bf(x)dx\\simeq h\\sum_{i=1}^{N}f(x_i)$$\n",
    "* la méthode des rectangles point milieu : dans l'intervalle $[x_i, x_{i+1}]$ la fonction est supposée constante égale à $f(x_i+h/2)$, ce qui nous donne la formule finale\n",
    "$$\\int_a^bf(x)dx\\simeq h\\sum_{i=0}^{N-1}f(x_i+h/2)$$\n",
    "\n",
    "Sans chercher à implémenter ces différentes approches, comment pourriez-vous les comparer en terme de précision ?\n",
    "\n",
    "## La méthode des trapèzes\n",
    "\n",
    "Considérant que la méthode des rectangles est un peu trop grossière, on peut écrire que la fonction $f(x)$ a un comportement linéaire dans chaque sous-intervalle $[x_i, x_{i+1}]$, ce qui revient à assimiler localement la fonction à sa tangente. Faisant cela on peut intuitivement s'attendre à mieux suivre les évolutions de la fonction, et donc obtenir une précision meilleure dans le calcul de l'intégrale.\n",
    "\n",
    "L'interpolation linéaire de la fonction $f(x)$ entre les points $(x_i, f(x_i))$ et $(x_{i+1}, f(x_{i+1}))$ s'écrit simplement\n",
    "$$f(x)\\simeq f(x_i)+\\frac{f(x_{i+1})-f(x_i)}{h}(x-x_i)$$\n",
    "\n",
    "L'intégrale élémentaire ce l'intervalle $[x_i, x_{i+1}]$ est simple à calculer\n",
    "$$\\int_{x_i}^{x_{i+1}}f(x)dx\\simeq hf(x_i)+\n",
    "\\frac{f(x_{i+1})-f(x_i)}{h}\\frac{h^2}{2}=h\\frac{f(x_{i+1})+f(x_i)}{2}$$\n",
    "Il reste alors simplement à sommer toutes ces contributions élémentaires et on obtient la formule des trapèzes sous la forme\n",
    "$$\\int_a^bf(x)dx\\simeq h\\left[\\frac{f(a)+f(b)}{2}+\\sum_{i=1}^{N-1}f(x_i)\\right]$$\n",
    "\n",
    "Sans chercher à implémenter cette méthode, comment pourriez-vous la comparer en terme de précision avec les 3 méthodes des rectangles précédentes ?\n",
    "\n",
    "## La méthode de Simpson\n",
    "\n",
    "Le principe de la méthode de Simpson est similaire à la méthode précédente, elle repose sur une interpolation quadratique de la fonction $f(x)$ dans chaque intervalle élémentaire $[x_i, x_{i+1}]$. Les coefficients de l'interpolation quadratique sont tels que la fonction coïncide avec son interpolation aux deux points extrèmes de l'intervalle $x_i$ et $x_{i+1}$, ainsi qu'au point médian $x_i+h/2$.\n",
    "\n",
    "On peut écrire l'interpolation sous la forme\n",
    "$$f(x)\\simeq f(x_i)+\\alpha(x-x_i)+\\beta(x-x_i)^2$$\n",
    "avec les deux conditions suivantes\n",
    "* $\\alpha h/2+\\beta h^2/4=f(x_i+h/2)-f(x_i)$\n",
    "* $\\alpha h+\\beta h^2=f(x_{i+1})-f(x_i)$\n",
    "\n",
    "On peut alors en déduire\n",
    "$$\\alpha h=4f(x_i+h/2)-3f(x_i)-f(x_{i+1})$$\n",
    "et\n",
    "$$\\beta h^2=2f(x_{i+1})+2f(x_i)-4f(x_i+h/2)$$\n",
    "On en déduit alors l'intégrale élémentaire\n",
    "\n",
    "$$\\int_{x_i}^{x_{i+1}}f(x)dx\\simeq hf(x_i)+\\alpha\\frac{h^2}{2}+\\beta\\frac{h^3}{3}=\n",
    "\\frac{h}{6}\\left[f(x_i)+f(x_{i+1})+4f(x_i+h/2)\\right]$$\n",
    "\n",
    "Il reste alors simplement à sommer toutes ces contributions élémentaires et on obtient la formule de Simpson sous la forme\n",
    "$$\\int_a^bf(x)dx\\simeq \\frac{h}{6}\\left[f(a)+f(b)+2\\sum_{i=1}^{N-1}f(x_i)+4\\sum_{i=0}^{N-1}f(x_i+h/2)\\right]$$\n",
    "\n",
    "Sans chercher à implémenter cette méthode, comparer ces différentes approches en terme de précision attendue et du temps de calcul correspondant.\n",
    "\n",
    "Quelle est la complexité numérique de ces différentes méthodes en fonction du paramètre $N$ ?\n"
   ]
  },
  {
   "cell_type": "markdown",
   "metadata": {},
   "source": [
    "## Implémentation de ces différentes méthodes"
   ]
  },
  {
   "cell_type": "markdown",
   "metadata": {},
   "source": [
    "On considère l'intégrale\n",
    "$$I=\\int_0^{\\pi/2}\\sin(x)dx=1$$\n",
    "\n",
    "Ecrire les fonctions permettant de calculer, en fonction du nombre de subdivisions $N$ de l'intervalle $[0,\\pi/2]$, l'intégrale par la méthode des rectangles (à gauche, à droite et point milieu), des trapèzes, de Simpson.\n",
    "\n",
    "Représenter graphiquement le temps de calcul de chacune de ces méthodes en fonction de $N$. On pourra considérer $N$ variant entre 100 et 10000 par pas de 100.\n",
    "Conclusions ?\n",
    "\n",
    "Représenter graphiquement l'écart entre l'intégrale estimée et la valeur attendue pour chacune de ces méthodes en fonction de $N$.\n",
    "Conclusions ?\n"
   ]
  },
  {
   "cell_type": "code",
   "execution_count": 130,
   "metadata": {},
   "outputs": [],
   "source": [
    "# Définition de la fonction\n",
    "import numpy as np\n",
    "import mpmath as mp\n",
    "\n",
    "def f(x):\n",
    "    return(mp.sin(x))"
   ]
  },
  {
   "cell_type": "code",
   "execution_count": 131,
   "metadata": {},
   "outputs": [
    {
     "name": "stdout",
     "output_type": "stream",
     "text": [
      "(mpf('1.0156257152116708'), 0.0015900135040283203)\n",
      "(mpf('0.98420978867577291'), 0.001397848129272461)\n",
      "(mpf('1.000041124535493'), 0.0008938312530517578)\n"
     ]
    }
   ],
   "source": [
    "import time\n",
    "# Rectangle gauche\n",
    "def rectangle_gauche(f,a,b,N):\n",
    "    t1 = time.time()\n",
    "    pas = (b-a)/N\n",
    "    S = 0\n",
    "    for k in range(N):\n",
    "        S += f(a+k*pas)\n",
    "    t2 = time.time()\n",
    "    return(pas*S,t2-t1)\n",
    "\n",
    "# Rectangle droit\n",
    "def rectangle_droit(f,a,b,N):\n",
    "    t1 = time.time()\n",
    "    pas = (b-a)/N\n",
    "    S = 0\n",
    "    for k in range(1,N+1):\n",
    "        S += f(a+k*pas)\n",
    "    t2 = time.time()\n",
    "    return(pas*S,t2-t1)\n",
    "\n",
    "# Rectangle point-milieu\n",
    "def rectangle_pt_milieu(f,a,b,N):\n",
    "    t1 = time.time()\n",
    "    pas = (b-a)/N\n",
    "    S = 0\n",
    "    for k in range(N):\n",
    "        S += f(a+(k+1/2)*pas)\n",
    "    t2 = time.time()\n",
    "    return(pas*S,t2-t1)\n",
    "\n",
    "print(rectangle_droit(f,0,np.pi/2,50))\n",
    "print(rectangle_gauche(f,0,np.pi/2,50))\n",
    "print(rectangle_pt_milieu(f,0,np.pi/2,50))\n",
    "    "
   ]
  },
  {
   "cell_type": "code",
   "execution_count": 132,
   "metadata": {},
   "outputs": [
    {
     "name": "stdout",
     "output_type": "stream",
     "text": [
      "(mpf('0.99991775194372179'), 0.001840829849243164)\n"
     ]
    }
   ],
   "source": [
    "# Méthode des trapèzes\n",
    "def trap(f,a,b,N):\n",
    "    t1 = time.time()\n",
    "    pas = (b-a)/N\n",
    "    S = 0\n",
    "    for k in range(1,N):\n",
    "        S += f(a+k*pas)\n",
    "    t2 = time.time()\n",
    "    return(pas*(S+(f(a)+f(b))/2),t2-t1)\n",
    "\n",
    "print(trap(f,0,np.pi/2,50))"
   ]
  },
  {
   "cell_type": "code",
   "execution_count": 133,
   "metadata": {},
   "outputs": [
    {
     "name": "stdout",
     "output_type": "stream",
     "text": [
      "(mpf('1.0000000003382361'), 0.00410008430480957)\n"
     ]
    }
   ],
   "source": [
    "# Méthode de Simpson\n",
    "import mpmath as mp\n",
    "def simp(f,a,b,N):\n",
    "    t1 = time.time()\n",
    "    pas = (b-a)/N\n",
    "    S = 0\n",
    "    for k in range(N):\n",
    "        S += 2*f(a+k*pas)+4*f(a+(k+1/2)*pas)\n",
    "    t2 = time.time()\n",
    "    return(mp.mpf(pas/6*(f(a)+f(b)+S)),t2-t1)\n",
    "\n",
    "print(simp(f,0,np.pi/2,50))   "
   ]
  },
  {
   "cell_type": "code",
   "execution_count": 60,
   "metadata": {},
   "outputs": [
    {
     "data": {
      "image/png": "[encoded data removed]",
      "text/plain": [
       "<Figure size 432x288 with 1 Axes>"
      ]
     },
     "metadata": {
      "needs_background": "light"
     },
     "output_type": "display_data"
    }
   ],
   "source": [
    "import matplotlib.pyplot as plt\n",
    "n = [k for k in range(100,1000,1)]\n",
    "time_rectg = []\n",
    "time_rectd = []\n",
    "time_rectm = []\n",
    "time_trap = []\n",
    "time_simp = []\n",
    "for N in n:\n",
    "    time_rectg.append(rectangle_gauche(f,0,np.pi/2,N)[1])\n",
    "    time_rectd.append(rectangle_droit(f,0,np.pi/2,N)[1])\n",
    "    time_rectm.append(rectangle_pt_milieu(f,0,np.pi/2,N)[1])\n",
    "    time_trap.append(trap(f,0,np.pi/2,N)[1])\n",
    "    time_simp.append(simp(f,0,np.pi/2,N)[1])\n",
    "plt.plot(n,time_rectg)\n",
    "plt.plot(n,time_rectd)\n",
    "plt.plot(n,time_rectm)\n",
    "plt.plot(n,time_trap)\n",
    "plt.plot(n,time_simp)\n",
    "plt.xlabel('N')\n",
    "plt.ylabel('Temps')\n",
    "plt.legend(['Rectangle gauche','Rectangle droite','Rectangle point-milieu','Trapèze','Simpson'])\n",
    "plt.title('Temps en fonction de N')\n",
    "plt.grid()"
   ]
  },
  {
   "cell_type": "code",
   "execution_count": 90,
   "metadata": {},
   "outputs": [
    {
     "data": {
      "image/png": "[encoded data removed]",
      "text/plain": [
       "<Figure size 432x288 with 1 Axes>"
      ]
     },
     "metadata": {
      "needs_background": "light"
     },
     "output_type": "display_data"
    }
   ],
   "source": [
    "# Erreur\n",
    "import matplotlib.pyplot as plt\n",
    "import mpmath as mp\n",
    "n = [k for k in range(100,1000,100)]\n",
    "erf_rectg = []\n",
    "erf_rectd = []\n",
    "erf_rectm = []\n",
    "erf_trap = []\n",
    "erf_simp = []\n",
    "for N in n:\n",
    "    erf_rectg.append(mp.log(np.abs(1-rectangle_gauche(f,0,np.pi/2,N)[0])))\n",
    "    erf_rectd.append(mp.log(np.abs(1-rectangle_droit(f,0,np.pi/2,N)[0])))\n",
    "    erf_rectm.append(mp.log(np.abs(1-rectangle_pt_milieu(f,0,np.pi/2,N)[0])))\n",
    "    erf_trap.append(mp.log(np.abs(1-trap(f,0,np.pi/2,N)[0])))\n",
    "    erf_simp.append(mp.log(np.abs(1-simp(f,0,np.pi/2,N)[0])))\n",
    "plt.plot(n,erf_rectg)\n",
    "plt.plot(n,erf_rectd)\n",
    "plt.plot(n,erf_rectm)\n",
    "plt.plot(n,erf_trap)\n",
    "plt.plot(n,erf_simp)\n",
    "plt.xlabel('N')\n",
    "plt.ylabel('Erreur')\n",
    "plt.legend(['Rectangle gauche','Rectangle droite','Rectangle point-milieu','Trapèze','Simpson'])\n",
    "plt.title('Erreur en fonction de N')\n",
    "plt.grid()   \n"
   ]
  },
  {
   "cell_type": "markdown",
   "metadata": {},
   "source": [
    "## Calcul en précision arbitraire\n",
    "\n",
    "Refaire le même calcul de la méthode de Simpson en précision arbitraire à 20 chiffres significatifs, et à 50 chiffres significatifs. Qu'observez-vous ?\n",
    "\n",
    "Le module Python pour les calculs en précision arbitraire est \"mpmath\".\n"
   ]
  },
  {
   "cell_type": "code",
   "execution_count": 91,
   "metadata": {},
   "outputs": [
    {
     "data": {
      "image/png": "[encoded data removed]",
      "text/plain": [
       "<Figure size 432x288 with 1 Axes>"
      ]
     },
     "metadata": {
      "needs_background": "light"
     },
     "output_type": "display_data"
    }
   ],
   "source": [
    "import mpmath as mp\n",
    "import matplotlib.pyplot as plt\n",
    "dps = [20,50]\n",
    "n = [k for k in range(100,1000,1)]\n",
    "for dp in dps :\n",
    "    mp.dps = dp\n",
    "    erf_simp = []\n",
    "    for N in n:\n",
    "        erf_simp.append(mp.log(np.abs(1-simp(f,0,mp.pi/2,N)[0])))\n",
    "    plt.plot(n,erf_simp)\n",
    "plt.legend(['dps = 20','dps = 50'])\n",
    "plt.grid()"
   ]
  },
  {
   "cell_type": "markdown",
   "metadata": {},
   "source": [
    "## Un exemple pathologique...\n",
    "\n",
    "On va ici implémenter une méthode de Simpson pour calculer en fonction de paramètre $n$ l'intégrale\n",
    "$$I_n=\\int_0^{2\\pi}\\left(x+10^n\\sin(x)\\right)dx$$\n",
    "\n",
    "Calculer $I_n$.\n",
    "\n",
    "Calculer numériquement $I_1$, $I_5$, $I_{10}$, $I_{20}$. Commentaires ?\n"
   ]
  },
  {
   "cell_type": "markdown",
   "metadata": {},
   "source": [
    "Refaire les mêmes calculs en précision arbitraire.\n",
    "\n",
    "On choisira le nombre de chiffres significatifs nécessaires pour mener à bien ces calculs."
   ]
  },
  {
   "cell_type": "code",
   "execution_count": 127,
   "metadata": {},
   "outputs": [],
   "source": [
    "# Définition de la fonction\n",
    "import numpy as np\n",
    "import mpmath as mp\n",
    "\n",
    "def f2(x,n):\n",
    "    return(x+10**n*mp.sin(x))\n",
    "\n",
    "# Influence du 10^n nul car int de sin sur 0 2pi = 0"
   ]
  },
  {
   "cell_type": "code",
   "execution_count": 129,
   "metadata": {},
   "outputs": [
    {
     "name": "stdout",
     "output_type": "stream",
     "text": [
      "dps = 20\n",
      "19.7392088021787\n",
      "19.7392088021265\n",
      "19.7392098982364\n",
      "-13553.3192545408\n",
      "dps = 50\n",
      "19.7392088021787\n",
      "19.7392088021265\n",
      "19.7392098982364\n",
      "-13553.3192545408\n"
     ]
    }
   ],
   "source": [
    "import mpmath as mp\n",
    "def simp2(f,a,b,n,N):\n",
    "    pas = (b-a)/N\n",
    "    S = 0\n",
    "    for k in range(N):\n",
    "        S += 2*f(a+k*pas,n)+4*f(a+(k+1/2)*pas,n)\n",
    "    return(mp.mpf(pas/6*(f(a,n)+f(b,n)+S)))\n",
    "\n",
    "dps = [20,50]\n",
    "N = [1,5,10,20]\n",
    "for dp in dps :\n",
    "    mp.dps = dp\n",
    "    print('dps =',dp)\n",
    "    for n in N:\n",
    "        print(simp2(f2,0,2*mp.pi,n,100))   "
   ]
  },
  {
   "cell_type": "markdown",
   "metadata": {},
   "source": [
    "## Calcul d'une intégrale singulière"
   ]
  },
  {
   "cell_type": "markdown",
   "metadata": {},
   "source": [
    "On cherche ici à calculer l'intégrale\n",
    "$$I=\\int_{-1}^{+1}\\frac{1}{\\sqrt{1-x^2}}dx$$\n",
    "On peut dans un premier temps utiliser une méthode de Simpson, mais limitée à un intervalle $[-1+\\varepsilon,1-\\varepsilon]$ avec $\\varepsilon>0$ afin d'éviter les singularités en $\\pm1$.\n"
   ]
  },
  {
   "cell_type": "markdown",
   "metadata": {},
   "source": [
    "Calculer cette intégrale par la méthode de Simpson pour $\\varepsilon=10^{-1}$, $10^{-2}$... $10^{-10}$ et représenter graphiquement l'écart entre la valeur calculée et la valeur attendue en fonction de $\\varepsilon$. Qu'observez-vous ?\n"
   ]
  },
  {
   "cell_type": "code",
   "execution_count": 136,
   "metadata": {},
   "outputs": [],
   "source": [
    "import mpmath as mp\n",
    "import numpy as np\n",
    "\n",
    "def f3(x):\n",
    "    return(1/np.sqrt(1-x**2))"
   ]
  },
  {
   "cell_type": "code",
   "execution_count": 142,
   "metadata": {},
   "outputs": [
    {
     "name": "stdout",
     "output_type": "stream",
     "text": [
      "0.1 2.25330427368973\n",
      "0.01 2.9059410996835\n",
      "0.001 3.24205958500106\n",
      "0.0001 3.90427975353356\n",
      "1e-05 5.94475345416751\n",
      "1e-06 12.391616985773\n",
      "1e-07 32.7777892996187\n",
      "1e-08 97.2444568874477\n",
      "1e-09 301.10595474697\n",
      "1e-10 945.772556330906\n"
     ]
    },
    {
     "data": {
      "text/plain": [
       "Text(0.5, 1.0, 'Erreur en fonction de epsilon')"
      ]
     },
     "execution_count": 142,
     "metadata": {},
     "output_type": "execute_result"
    },
    {
     "data": {
      "image/png": "[encoded data removed]",
      "text/plain": [
       "<Figure size 432x288 with 1 Axes>"
      ]
     },
     "metadata": {
      "needs_background": "light"
     },
     "output_type": "display_data"
    }
   ],
   "source": [
    "epsilon = [10**(-i) for i in range(1,11)]\n",
    "logeps = [mp.log(eps) for eps in epsilon]\n",
    "erf = []\n",
    "for eps in epsilon:\n",
    "    print(eps,simp(f3,-1+eps,1-eps,100)[0]) \n",
    "    erf.append(mp.log(np.abs(mp.pi-simp(f3,-1+eps,1-eps,100)[0])))\n",
    "plt.plot(logeps,erf)\n",
    "plt.grid()\n",
    "plt.xlabel('Epsilon')\n",
    "plt.ylabel('Erreur')\n",
    "plt.title('Erreur en fonction de epsilon')\n",
    "                      "
   ]
  },
  {
   "cell_type": "markdown",
   "metadata": {},
   "source": [
    "## La quadrature de Gauss\n",
    "\n",
    "L'approche connue sous le nom de quadrature de Gauss consiste à calculer une intégrale de la forme\n",
    "$$T[f]=\\int_{a}^{b}w(x)f(x)dx$$\n",
    "où $f(x)$ est une fonction régulière sur tout l'intervalle $[a,b]$ et $w(x)$ est le noyau de l'intégrale, dont on suppose qu'il reste de signe constant positif. Ce noyau peut comporter des singularités intégrales comme dans le cas ci-dessus correspondant à \n",
    "$$w(x)=\\frac{1}{\\sqrt{1-x^2}}$$\n",
    "\n",
    "Le principe pour calculer ce genre d'intégrale repose sur une formule approchée similaire à celle issue de méthodes telles que trapèzes ou Simpson, à savoir\n",
    "$$T[f]\\simeq\\sum_{i=0}^N\\alpha_if(x_i)$$\n",
    "avec des points de références $x_i$ et des coefficients de pondération $\\alpha_i$ choisis de telle sorte que la convergence de l'intégrale aux points de singularité est prise en compte dans la formulation mathématique. \n",
    "\n",
    "L'objectif de cette méthode est donc d'optimiser le choix de ces paramètres afin de stabiliser le calcul d'intégrales de ce genre.\n",
    "\n",
    "Le critère de choix de ces paramètres consiste à écrire que la formule approchée est en réalité exacte pour des polynômes de degré croissant. L'intégrale étant une opération linéaire on peut se contenter des monômes élémentaires de degré croissant, avec un nombre suffisant de conditions pour que les $x_i$ et les $\\alpha_i$ puissent être calculés.\n",
    "\n",
    "La condition sous-jacente est que l'on soit en mesure de calculer les valeurs exactes de ces intégrales pour chacun des monômes élémentaires. On remplace donc un calcul numérique instable en raison de la singularité par un calcul mathématique rigoureux qui lui prend en compte la singularité et le fait qu'elle soit intégrable. On déplace donc la difficulté du numérique vers le formel. Cela implique évidemment un effort complémentaire puisqu'il faut calculer mathématiquement les intégrales élémentaires dont on a besoin.\n",
    "\n",
    "Une autre condition sous-jacente est que la fonction $f(x)$ puisse être interpolée par des polynômes sur tout l'intervalle d'intégration sans écarts importants entre la fonction et son polynôme d'interpolation. La formule étant par construction exacte pour ce polynôme d'interpolation, on peut raisonnablement s'attendre à puvoir calculer l'intégrale avec une bonne précision.\n"
   ]
  },
  {
   "cell_type": "markdown",
   "metadata": {},
   "source": [
    "### Les points de références $x_i$ sont fixés par avance\n",
    "\n",
    "On considère dans un premier temps que les points de références $x_i$ sont fixés, et on cherche à optimiser le choix des coefficients de pondérations $\\alpha_i$. Les points de références $x_i$ sont évidemment choisis deux à deux distincts.\n",
    "\n",
    "On a ici $N+1$ coefficients de pondération à calculer, on va donc avoir besoin de $N+1$ condition. Pour cela on écrit l'égalité stricte pour chacun des monômes élémentaires $x^0=1$, $x^1$,... $x^N$.\n",
    "\n",
    "On obtient ainsi $N+1$ conditions que l'on peut écrire sous la forme\n",
    "$$\\sum_{i=0}^N\\alpha_ix_i^k=T[x^k],~~0\\leq k\\leq N$$\n",
    "que l'on peut aussi écrire sous forme matricielle\n",
    "\n",
    "$$\\left(\\begin{array}{cccc}\n",
    "1 & 1 & \\cdots & 1 \\\\\n",
    "x_0 & x_1 & \\cdots & x_N \\\\\n",
    "x_0^2 & x_1^2 & \\cdots & x_N^2 \\\\\n",
    "\\vdots & \\vdots & \\ddots & \\vdots \\\\\n",
    "x_0^N & x_1^N & \\cdots & x_N^N \\\\\n",
    "\\end{array}\\right)\\times\n",
    "\\left(\\begin{array}{c}\n",
    "\\alpha_0 \\\\\n",
    "\\alpha_1 \\\\\n",
    "\\alpha_2 \\\\\n",
    "\\cdots \\\\\n",
    "\\alpha_N\n",
    "\\end{array}\\right)=\n",
    "\\left(\\begin{array}{c}\n",
    "T[1] \\\\\n",
    "T[x] \\\\\n",
    "T[x^2] \\\\\n",
    "\\cdots \\\\\n",
    "T[x^N]\n",
    "\\end{array}\\right)$$\n",
    "\n",
    "La matrice est ici complètement calculable puisque les points de références $x_i$ sont choisis à l'avance. Il reste donc à calculer le vecteur second membre, et c'est là que le programmeur se transforme en mathématicien et fait le calcul de manière complètement formelle et exacte.\n",
    "\n",
    "Il reste ensuite à inverser cette matrice pour obtenir les coefficients de pondération $\\alpha_i$. La matrice est de type Van der Monde, on la sait inversible car les $x_i$ sont deux à deux distincts.\n"
   ]
  },
  {
   "cell_type": "markdown",
   "metadata": {},
   "source": [
    "### Exemple d'application pratique\n",
    "\n",
    "On revient à l'exemple précédent, on considère donc l'opérateur $T$ défini par\n",
    "$$T[f]=\\int_{-1}^{+1}\\frac{f(x)}{\\sqrt{1-x^2}}dx$$\n",
    "\n",
    "Calculer $T[x^k]$ et écrire une fonction permettant d'obtenir les valeurs numériques correspondantes."
   ]
  },
  {
   "cell_type": "code",
   "execution_count": 152,
   "metadata": {},
   "outputs": [
    {
     "name": "stdout",
     "output_type": "stream",
     "text": [
      "28.274333882308138\n"
     ]
    }
   ],
   "source": [
    "def facto(n):\n",
    "    if n == 0:\n",
    "        fact = 1\n",
    "    else:\n",
    "        fact = facto(n-1)*n\n",
    "    return fact\n",
    "\n",
    "def T(k):\n",
    "    if k%2==0:\n",
    "        return(np.pi*(facto(2*k))**2/(2**k*facto(k))**2)\n",
    "    else:\n",
    "        return(0)\n",
    "    \n",
    "print(T(2))"
   ]
  },
  {
   "cell_type": "markdown",
   "metadata": {},
   "source": [
    "On peut alors par exemple considérer $2N+1$ points de références équirépartis entre $-1$ et $+1$.\n",
    "Calculer les coefficients de pondération correspondant.\n",
    "\n",
    "En déduire la valeur numérique de \n",
    "$$\\int_{-1}^{+1}\\frac{x^n}{\\sqrt{1-x^2}}dx$$\n",
    "pour $n$ variant de 0 à 20 et comparer avec la valeur théorique attendue. On pourra prendre ici $N=5$.\n",
    "\n",
    "Qu'observer-vous si vous augmentez progressivement la valeur de N ?\n"
   ]
  },
  {
   "cell_type": "markdown",
   "metadata": {},
   "source": [
    "### Les points de référence $x_i$ sont ajustables\n",
    "\n",
    "Dans l'approche précédente on avait fixé des valeurs pour les points de référence $x_i$ de manière un peu arbitraire. L'idée ici est d'optimiser le choix des $x_i$ pour rendre plus performante la méthode de la quadrature de Gauss.\n",
    "\n",
    "On a donc désormais $2(N+1)$ coefficients à trouver, les $N+1$ points de référence $x_i$ et les $N+1$ coefficients de pondération correspondants $\\alpha_i$. Le principe de la méthode est similaire à l'approche précédente, à savoir exprimer l'exactitude entre la formule approchée et les valeurs attendues pour tous les monômes élémentaires de degré 0, 1, ..., $2N+1$.\n",
    "\n",
    "Globalement on finit avec le même système que précédemment sous la forme\n",
    "$$\\sum_{i=0}^N\\alpha_ix_i^k=T[x^k],~~0\\leq k\\leq 2N+1$$\n",
    "La différence principale avec le cas précédent est que notre système est non linéaire, donc significativement plus complexe à résoudre.\n",
    "\n",
    "En fait le problème est ici mal posé et c'est la raison pour laquelle on aboutit à un système non linéaire. On définit alors le polynôme intermédiaire de degré $N+1$\n",
    "$$P(x)=\\prod_{i=0}^N(x-x_i)=x^{N+1}+\\sum_{i=0}^N\\beta_ix^i$$\n",
    "Notre critère d'égalité stricte entre la formule approchée et la valeur attendue est vrai pour tous les monômes $x^k$ de degré $k\\leq 2N+1$, il est en particulier également vrai pour $P(x)$, $xP(x)$, ..., $x^NP(x)$.\n",
    "Ainsi pour $k\\leq N$ on a\n",
    "$$\n",
    "\\begin{array}{ll}\n",
    "T[x^kP(x)] & \\displaystyle =T\\left[x^{N+1+k}+\\sum_{i=0}^N\\beta_ix^{i+k}\\right]=T[x^{N+1+k}]+\\sum_{i=0}^N\\beta_iT[x^{i+k}] \\\\\n",
    "& \\displaystyle =\\sum_{i=0}^{N}\\alpha_ix_i^kP(x_i)=0\\end{array}$$\n",
    "Ces différentes relations écrites pour $0\\leq k\\leq N$ nous donnent un système linéaire de $N+1$ équations à $N+1$ inconnues $\\beta_i$, dont les coefficients et le second membre ne dépendent que de l'évaluation de l'opérateur $T$ pour les monômes élémentaires. Le système étant linéaire, on peut l'inverser avec des algorithmes classiques et simples, ce qui permet de calculer les coefficients du polynôme $P$.\n",
    "\n",
    "Une fois les $\\beta_i$ calculés, on est ramené au calcul des racines d'un polynôme dont on connait les coefficients. Il existe des méthodes numériques efficaces pour résoudre ce genre de problème, principalement dans le cas de polynômes de degré pas trop élevé ; en revanche dans certaines situations ce problème numérique est un non-problème puisque l'on peut obtenir les racines du polynôme de manière analytique.\n",
    "\n",
    "Une fois les $x_i$ calculés, on est ramené à la formulation précédente.\n"
   ]
  },
  {
   "cell_type": "markdown",
   "metadata": {
    "tags": []
   },
   "source": [
    "### Synthèse de la méthode\n",
    "\n",
    "* écriture et résolution du système linéaire $\\displaystyle T[x^{N+1+k}]+\\sum_{i=0}^N\\beta_iT[x^{i+k}]=0,~0\\leq k\\leq N~\\Longrightarrow$ calcul des $\\beta_i$\n",
    "* calcul des racines du polynôme $\\displaystyle P(x)=\\prod_{i=0}^N(x-x_i)=x^{N+1}+\\sum_{i=0}^N\\beta_ix^i~\\Longrightarrow$ calcul des $x_i$\n",
    "* calcul et inversion de la matrice de Van der Monde $\\Longrightarrow$ calcul des $\\alpha_i$\n",
    "\n",
    "De là on en déduit la formule approchée suivante\n",
    "$$\\int_a^bw(x)f(x)\\simeq\\sum_{i=0}^N\\alpha_if(x_i)$$\n",
    "A noter que les valeurs $\\alpha_i$ et $x_i$ ne dépendent pas de la fonction $f(x)$, elles ne dépendent que du noyau d'intégration $w(x)$ et du nombre de points de Gauss $N$.\n"
   ]
  },
  {
   "cell_type": "markdown",
   "metadata": {},
   "source": [
    "### Lien avec les polynômes orthogonaux\n",
    "\n",
    "L'opérateur $T$ est défini par\n",
    "$$T[f]=\\int_a^bw(x)f(x)dx,~\\mathrm{avec}~w(x)\\geq0,~\\forall x\\in[a,b]$$\n",
    "A partir de cet opérateur $T$ on peut définir dans l'espace vectoriel des polynômes la forme bilinéaire\n",
    "$$<P|Q>=\\int_a^bw(x)P(x)Q(x)dx$$\n",
    "dont on peut vérifier qu'elle satisfait toutes les propriétés d'un produit scalaire.\n",
    "\n",
    "On peut alors définir une famille de polynômes orthogonaux $\\{P_0, P_1,\\cdots,P_n,\\cdots\\}$ avec les propriétés suivantes\n",
    "* $P_i$ est de degré $i$ exactement\n",
    "* $<P_i|P_j>=<P_i|P_i>\\delta_{ij}$\n",
    "\n",
    "A titre de rappel, ces polynômes orthogonaux satisfont une relation de récurrence à 3 termes de la forme\n",
    "$$P_{n+2}(x)=(a_nx+b_n)P_{n+1}(x)+c_nP_n(x)$$\n",
    "Si l'on impose en outre aux polynômes $P_i$ d'avoir un terme de plus haut degré égal à 1, on a alors $a_n=1$.\n",
    "\n",
    "On se place dans le contexte de l'approximation sur une base de $N+1$ points de Gauss $x_i$, $0\\leq i\\leq N$, avec la condition que l'approximation est exacte pour tout polynôme de degré $\\leq 2N+1$.\n",
    "\n",
    "Soit donc $f$ un polynôme quelconque de degré $\\leq 2N+1$ et $P_{N+1}$ le $(N+1)$ème polynôme orthogonal tel que défini ci-dessus. Par division euclidienne de $f$ par $P_{N+1}$ on peut obtenir deux polynômes $g$ et $r$, de degré $\\leq N$, tels que\n",
    "$$f=gP_{N+1}+r$$\n",
    "\n",
    "On a alors par hypothèse d'exactitude de la formule d'intégration\n",
    "$$T[f]=\\sum_{i=0}^N\\alpha_if(x_i)=\\sum_{i=0}^N\\alpha_ig(x_i)P_{N+1}(x_i)+\\sum_{i=0}^N\\alpha_ir(x_i)$$\n",
    "Par linéarité de l'opérateur $T$, on a également\n",
    "$$T[f]=T[gP_{N+1}+r]=T[gP_{N+1}]+T[r]=<g|P_{N+1}>+T[r]$$\n",
    "\n",
    "Or le polynôme $g$ est de degré $\\leq N$, on peut donc le décomposer de manière unique que la base $P_0,P_1,\\cdots,P_N$ qui sont tous par construction orthogonaux avec $P_{N+1}$. On en déduit alors immédiatement $<g|P_{N+1}>=0$.\n",
    "\n",
    "On en déduit finalement\n",
    "$$T[f]=\\sum_{i=0}^N\\alpha_ig(x_i)P_{N+1}(x_i)+\\sum_{i=0}^N\\alpha_ir(x_i)=T[r]=\\sum_{i=0}^N\\alpha_ir(x_i)$$\n",
    "\n",
    "Cette relation doit être satisfaite $\\forall f$, donc $\\forall g,r$. On peut ainsi en déduire que les $x_i$ ne sont autres que les racines du $(N+1)$ème polynôme orthogonal $P_{N+1}$.\n"
   ]
  },
  {
   "cell_type": "markdown",
   "metadata": {},
   "source": [
    "### Application au calcul de l'intégrale singulière précédente\n",
    "\n",
    "On repart du problème du calcul de l'intégrale\n",
    "$$I=\\int_{-1}^{+1}\\frac{f(x)}{\\sqrt{1-x^2}}dx$$\n",
    "pour une fonction $f(x)$ régulière dans l'intervalle $[-1,+1]$.\n",
    "\n",
    "On définit alors dans l'espace vectoriel des polynômes le produit scalaire \n",
    "$$<P|Q>=\\int_{-1}^{+1}\\frac{P(x)Q(x)}{\\sqrt{1-x^2}}dx$$\n",
    "\n",
    "La famille des polynômes orthogonaux satisfait les caractéristiques suivantes\n",
    "* $T_0(x)=1$\n",
    "* $T_1(x)=x$\n",
    "* $T_{n+2}(x)=2xT_{n+1}(x)-T_{n}(x)$\n",
    "* $T_n(x)\\propto \\cos\\left[n\\cos^{-1}(x)\\right]$\n",
    "\n",
    "On retrouve ici la famille des polynômes de Tchebychev. Ainsi les racines de $T_{N+1}$ sont\n",
    "$$x_i=\\cos\\left(\\frac{1}{N+1}\\left(i\\pi+\\frac{\\pi}{2}\\right)\\right)$$\n",
    "\n",
    "Dans ce cas on peut démontrer que les coefficients $\\alpha_i$ sont tous égaux à $\\pi/(N+1)$.\n",
    "\n",
    "Appliquer la quadrature de Gauss pour calculer\n",
    "$$\\int_{-1}^{+1}\\frac{x^n}{\\sqrt{1-x^2}}dx$$\n",
    "\n",
    "pour $n$ variant de 0 à 20 et comparer avec la valeur théorique attendue. On pourra étudier en particulier l'influence du nombre de points de Gauss choisi pour le calcul.\n"
   ]
  }
 ],
 "metadata": {
  "kernelspec": {
   "display_name": "Python 3 (ipykernel)",
   "language": "python",
   "name": "python3"
  },
  "language_info": {
   "codemirror_mode": {
    "name": "ipython",
    "version": 3
   },
   "file_extension": ".py",
   "mimetype": "text/x-python",
   "name": "python",
   "nbconvert_exporter": "python",
   "pygments_lexer": "ipython3",
   "version": "3.9.13"
  },
  "toc-autonumbering": false
 },
 "nbformat": 4,
 "nbformat_minor": 4
}
